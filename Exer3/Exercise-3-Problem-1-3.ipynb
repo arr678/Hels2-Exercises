{
 "cells": [
  {
   "cell_type": "markdown",
   "metadata": {},
   "source": [
    "## Problem 1: Geocode shopping centers (5 points)\n",
    "\n",
    "The aim of problems 1-3 is to find out **how many people live within a walking distance (1.5 km) from selected shopping centers in Helsinki**.\n",
    "\n",
    "In problem 1 the task is to find out the addresses for a list of shopping centers and to geocode these addresses in order to represent them as points. The output should be stored in a Shapefile called `shopping_centers.shp` \n",
    "\n",
    "**Preparation:** Find out the addresses for following shopping centers from the internet, and write the addresses into a text file called `shopping_centers.txt`:\n",
    "\n",
    " - Itis\n",
    " - Forum\n",
    " - Iso-omena\n",
    " - Sello\n",
    " - Jumbo\n",
    " - REDI\n",
    " - Mall of Tripla \n",
    " \n",
    "\n",
    "`shopping_centers.txt` should have semicolon (`;`) as a separator, and the file should include the following columns:\n",
    "\n",
    "- ``id`` (integer) containing an unique identifier for each shopping center\n",
    "- ``name`` (string) of each shopping center\n",
    "- ``addr`` (string) the address \n",
    "\n",
    "\n",
    "See and example of how to format the text file [in the lesson 3 materials](https://autogis-site.readthedocs.io/en/latest/notebooks/L3/geocoding_in_geopandas.html). Save (and upload) the text file into your exercise repository.\n",
    "\n",
    "- Read `shopping_centers.txt` that you just created into a pandas DataFrame called ``data``:"
   ]
  },
  {
   "cell_type": "code",
   "execution_count": 1,
   "metadata": {},
   "outputs": [
    {
     "name": "stdout",
     "output_type": "stream",
     "text": [
      "Collecting geopandas\n",
      "  Downloading geopandas-0.9.0-py2.py3-none-any.whl (994 kB)\n",
      "\u001b[K     |████████████████████████████████| 994 kB 11.3 MB/s eta 0:00:01\n",
      "\u001b[?25hRequirement already satisfied: shapely>=1.6 in /srv/conda/envs/notebook/lib/python3.7/site-packages (from geopandas) (1.7.1)\n",
      "Collecting pyproj>=2.2.0\n",
      "  Downloading pyproj-3.1.0-cp37-cp37m-manylinux2010_x86_64.whl (6.6 MB)\n",
      "\u001b[K     |████████████████████████████████| 6.6 MB 43.3 MB/s eta 0:00:01\n",
      "\u001b[?25hRequirement already satisfied: pandas>=0.24.0 in /srv/conda/envs/notebook/lib/python3.7/site-packages (from geopandas) (1.2.4)\n",
      "Collecting fiona>=1.8\n",
      "  Downloading Fiona-1.8.20-cp37-cp37m-manylinux1_x86_64.whl (15.4 MB)\n",
      "\u001b[K     |████████████████████████████████| 15.4 MB 45.1 MB/s eta 0:00:01\n",
      "\u001b[?25hCollecting cligj>=0.5\n",
      "  Downloading cligj-0.7.2-py3-none-any.whl (7.1 kB)\n",
      "Collecting munch\n",
      "  Downloading munch-2.5.0-py2.py3-none-any.whl (10 kB)\n",
      "Requirement already satisfied: setuptools in /srv/conda/envs/notebook/lib/python3.7/site-packages (from fiona>=1.8->geopandas) (49.6.0.post20210108)\n",
      "Requirement already satisfied: certifi in /srv/conda/envs/notebook/lib/python3.7/site-packages (from fiona>=1.8->geopandas) (2021.5.30)\n",
      "Requirement already satisfied: six>=1.7 in /srv/conda/envs/notebook/lib/python3.7/site-packages (from fiona>=1.8->geopandas) (1.15.0)\n",
      "Requirement already satisfied: attrs>=17 in /srv/conda/envs/notebook/lib/python3.7/site-packages (from fiona>=1.8->geopandas) (20.3.0)\n",
      "Collecting click-plugins>=1.0\n",
      "  Downloading click_plugins-1.1.1-py2.py3-none-any.whl (7.5 kB)\n",
      "Requirement already satisfied: click>=4.0 in /srv/conda/envs/notebook/lib/python3.7/site-packages (from fiona>=1.8->geopandas) (8.0.1)\n",
      "Requirement already satisfied: importlib-metadata in /srv/conda/envs/notebook/lib/python3.7/site-packages (from click>=4.0->fiona>=1.8->geopandas) (3.4.0)\n",
      "Requirement already satisfied: python-dateutil>=2.7.3 in /srv/conda/envs/notebook/lib/python3.7/site-packages (from pandas>=0.24.0->geopandas) (2.8.1)\n",
      "Requirement already satisfied: pytz>=2017.3 in /srv/conda/envs/notebook/lib/python3.7/site-packages (from pandas>=0.24.0->geopandas) (2021.1)\n",
      "Requirement already satisfied: numpy>=1.16.5 in /srv/conda/envs/notebook/lib/python3.7/site-packages (from pandas>=0.24.0->geopandas) (1.20.3)\n",
      "Requirement already satisfied: zipp>=0.5 in /srv/conda/envs/notebook/lib/python3.7/site-packages (from importlib-metadata->click>=4.0->fiona>=1.8->geopandas) (3.4.0)\n",
      "Requirement already satisfied: typing-extensions>=3.6.4 in /srv/conda/envs/notebook/lib/python3.7/site-packages (from importlib-metadata->click>=4.0->fiona>=1.8->geopandas) (3.7.4.3)\n",
      "Installing collected packages: munch, cligj, click-plugins, pyproj, fiona, geopandas\n",
      "Successfully installed click-plugins-1.1.1 cligj-0.7.2 fiona-1.8.20 geopandas-0.9.0 munch-2.5.0 pyproj-3.1.0\n"
     ]
    }
   ],
   "source": [
    "!pip install geopandas"
   ]
  },
  {
   "cell_type": "code",
   "execution_count": 2,
   "metadata": {},
   "outputs": [
    {
     "name": "stdout",
     "output_type": "stream",
     "text": [
      "Collecting geopy\n",
      "  Downloading geopy-2.1.0-py3-none-any.whl (112 kB)\n",
      "\u001b[K     |████████████████████████████████| 112 kB 14.8 MB/s eta 0:00:01\n",
      "\u001b[?25hCollecting geographiclib<2,>=1.49\n",
      "  Downloading geographiclib-1.52-py3-none-any.whl (38 kB)\n",
      "Installing collected packages: geographiclib, geopy\n",
      "Successfully installed geographiclib-1.52 geopy-2.1.0\n"
     ]
    }
   ],
   "source": [
    "!pip install geopy"
   ]
  },
  {
   "cell_type": "code",
   "execution_count": 3,
   "metadata": {
    "deletable": false,
    "nbgrader": {
     "cell_type": "code",
     "checksum": "7de89a15a19f7c81c62cc7fe98d6b668",
     "grade": false,
     "grade_id": "read_data",
     "locked": false,
     "schema_version": 3,
     "solution": true
    }
   },
   "outputs": [],
   "source": [
    "# Import modules\n",
    "import pandas as pd\n",
    "import geopandas as gpd\n",
    "from shapely.geometry import Point\n",
    "\n",
    "fp = \"local_shop.txt\"\n",
    "\n",
    "# Read the data (replace \"None\" with your own code)\n",
    "data = pd.read_csv(fp, sep=';')"
   ]
  },
  {
   "cell_type": "code",
   "execution_count": 4,
   "metadata": {
    "deletable": false,
    "editable": false,
    "nbgrader": {
     "cell_type": "code",
     "checksum": "4e90dc0406dff7a0f4b0860443092087",
     "grade": true,
     "grade_id": "problem_1_read_data_tests",
     "locked": true,
     "points": 1,
     "schema_version": 3,
     "solution": false
    }
   },
   "outputs": [
    {
     "name": "stdout",
     "output_type": "stream",
     "text": [
      "     id                             name  \\\n",
      "0  1000          Carrick Shopping Center   \n",
      "1  1001  Dormont Village Shopping Center   \n",
      "2  1002     East Liberty Shopping Center   \n",
      "3  1003                  SouthSide Works   \n",
      "4  1004               Fifth Avenue Place   \n",
      "5  1005                   Wharton Square   \n",
      "6  1006      Noble Manor Shopping Center   \n",
      "7  1007              Squirrel Hill Plaza   \n",
      "\n",
      "                                                addr  \n",
      "0         2134 Brownsville Road Pittsburgh, PA 15210  \n",
      "1      2947 West Liberty Avenue Pittsburgh, PA 15216  \n",
      "2  5956 Centre Avenue Pittsburgh, Pennsylvania 15206  \n",
      "3  424 South 27th Street Pittsburgh, Pennsylvania...  \n",
      "4    120 Fifth Avenue Pittsburgh, Pennsylvania 15222  \n",
      "5       2021 Wharton Street Pittsburgh, Pennsylvania  \n",
      "6         2350 Noblestown Road, Pittsburgh, PA 15205  \n",
      "7         826 Hazelwood Avenue, Pittsburgh, PA 15217  \n"
     ]
    }
   ],
   "source": [
    "#NON-EDITABLE TEST CELL\n",
    "# Check your input data\n",
    "print(data)"
   ]
  },
  {
   "cell_type": "code",
   "execution_count": 5,
   "metadata": {},
   "outputs": [
    {
     "data": {
      "text/plain": [
       "array(['id', 'name', 'addr'], dtype=object)"
      ]
     },
     "execution_count": 5,
     "metadata": {},
     "output_type": "execute_result"
    }
   ],
   "source": [
    "data.columns.values"
   ]
  },
  {
   "cell_type": "markdown",
   "metadata": {},
   "source": [
    "- Geocode the addresses using the Nominatim geocoding service. Store the output in a variable called `geo`:"
   ]
  },
  {
   "cell_type": "code",
   "execution_count": 6,
   "metadata": {
    "deletable": false,
    "nbgrader": {
     "cell_type": "code",
     "checksum": "2feb8b7739bd1a824b39c3a1d0af369f",
     "grade": false,
     "grade_id": "geocode",
     "locked": false,
     "schema_version": 3,
     "solution": true
    }
   },
   "outputs": [],
   "source": [
    "from geopandas.tools import geocode"
   ]
  },
  {
   "cell_type": "code",
   "execution_count": 7,
   "metadata": {},
   "outputs": [],
   "source": [
    "geo = geocode(data['addr'], provider='nominatim', user_agent='gis_xx', timeout=4)"
   ]
  },
  {
   "cell_type": "code",
   "execution_count": 8,
   "metadata": {
    "deletable": false,
    "editable": false,
    "nbgrader": {
     "cell_type": "code",
     "checksum": "a3b8c4fef69c89dbb3299b84c11d3db7",
     "grade": true,
     "grade_id": "problem_1_gdf_test",
     "locked": true,
     "points": 1,
     "schema_version": 3,
     "solution": false,
     "task": false
    }
   },
   "outputs": [
    {
     "name": "stdout",
     "output_type": "stream",
     "text": [
      "                     geometry  \\\n",
      "0  POINT (-79.98670 40.39254)   \n",
      "1  POINT (-80.02880 40.39742)   \n",
      "2  POINT (-79.92648 40.45909)   \n",
      "3  POINT (-79.96804 40.42500)   \n",
      "4  POINT (-80.00278 40.44155)   \n",
      "5  POINT (-79.97666 40.43102)   \n",
      "6  POINT (-80.05549 40.42756)   \n",
      "7  POINT (-79.92783 40.41957)   \n",
      "\n",
      "                                             address  \n",
      "0  2134, Brownsville Road, Carrick, Pittsburgh, A...  \n",
      "1  West Liberty Avenue, Beechview, Pittsburgh, Al...  \n",
      "2  Fine Wine & Good Spirits, 5956, Centre Avenue,...  \n",
      "3  South 27th Street, South Side Slopes, Pittsbur...  \n",
      "4  120, Fifth Avenue, Downtown, Pittsburgh, Alleg...  \n",
      "5  Giant Eagle, 2021, Wharton Street, South Side ...  \n",
      "6  Fine Wine & Good Spirits, 2350, Noblestown Roa...  \n",
      "7  826, Hazelwood Avenue, Greenfield, Pittsburgh,...  \n"
     ]
    }
   ],
   "source": [
    "#NON-EDITABLE TEST CELL\n",
    "# Check the geocoded output\n",
    "print(geo)"
   ]
  },
  {
   "cell_type": "code",
   "execution_count": 9,
   "metadata": {
    "deletable": false,
    "editable": false,
    "nbgrader": {
     "cell_type": "code",
     "checksum": "f2e432e605330a668b5bfdbbbd12569e",
     "grade": true,
     "grade_id": "problem_1_geocode_tests",
     "locked": true,
     "points": 1,
     "schema_version": 3,
     "solution": false
    }
   },
   "outputs": [
    {
     "name": "stdout",
     "output_type": "stream",
     "text": [
      "<class 'geopandas.geodataframe.GeoDataFrame'>\n"
     ]
    }
   ],
   "source": [
    "#NON-EDITABLE TEST CELL\n",
    "# Check the data type (should be a GeoDataFrame!)\n",
    "print(type(geo))"
   ]
  },
  {
   "cell_type": "markdown",
   "metadata": {},
   "source": [
    "Check that the coordinate reference system of the geocoded result is correctly defined, and **reproject the layer into ETRS GK-25** (EPSG:3879):"
   ]
  },
  {
   "cell_type": "code",
   "execution_count": 10,
   "metadata": {
    "deletable": false,
    "nbgrader": {
     "cell_type": "code",
     "checksum": "b0159d35f45f5454fae6b5d67858b986",
     "grade": false,
     "grade_id": "crs",
     "locked": false,
     "schema_version": 3,
     "solution": true
    }
   },
   "outputs": [],
   "source": [
    "geo = geo.to_crs(epsg=2272)"
   ]
  },
  {
   "cell_type": "code",
   "execution_count": 11,
   "metadata": {
    "deletable": false,
    "editable": false,
    "nbgrader": {
     "cell_type": "code",
     "checksum": "764cba257612241267e3b2bcc90b5dcd",
     "grade": true,
     "grade_id": "problem_1_crs_test",
     "locked": true,
     "points": 0.5,
     "schema_version": 3,
     "solution": false
    }
   },
   "outputs": [
    {
     "name": "stdout",
     "output_type": "stream",
     "text": [
      "epsg:2272\n"
     ]
    }
   ],
   "source": [
    "#NON-EDITABLE TEST CELL\n",
    "# Check layer crs\n",
    "print(geo.crs)"
   ]
  },
  {
   "cell_type": "markdown",
   "metadata": {},
   "source": [
    "- Make a table join between the geocoded addresses (``geo``) and the original addresses (``data``) in order to link the numerical coordinates and  the `id` and `name` of each shopping center. \n",
    "- Store the output in a variable called ``geodata`` \n"
   ]
  },
  {
   "cell_type": "code",
   "execution_count": 12,
   "metadata": {
    "deletable": false,
    "nbgrader": {
     "cell_type": "code",
     "checksum": "aca9ef4ece824d53650aec8c0fafc38d",
     "grade": false,
     "grade_id": "join",
     "locked": false,
     "schema_version": 3,
     "solution": true
    }
   },
   "outputs": [],
   "source": [
    "# Join the tables\n",
    "geodata = geo.join(data)"
   ]
  },
  {
   "cell_type": "code",
   "execution_count": 13,
   "metadata": {
    "deletable": false,
    "editable": false,
    "nbgrader": {
     "cell_type": "code",
     "checksum": "98d25baeb42eaeb2701f09f42c8c84c5",
     "grade": true,
     "grade_id": "problem_1_join_test",
     "locked": true,
     "points": 1,
     "schema_version": 3,
     "solution": false
    }
   },
   "outputs": [
    {
     "name": "stdout",
     "output_type": "stream",
     "text": [
      "                         geometry  \\\n",
      "0  POINT (1345553.385 393742.788)   \n",
      "1  POINT (1333875.918 395820.492)   \n",
      "2  POINT (1362919.916 417561.101)   \n",
      "3  POINT (1351046.940 405434.930)   \n",
      "4  POINT (1341532.584 411706.432)   \n",
      "\n",
      "                                             address    id  \\\n",
      "0  2134, Brownsville Road, Carrick, Pittsburgh, A...  1000   \n",
      "1  West Liberty Avenue, Beechview, Pittsburgh, Al...  1001   \n",
      "2  Fine Wine & Good Spirits, 5956, Centre Avenue,...  1002   \n",
      "3  South 27th Street, South Side Slopes, Pittsbur...  1003   \n",
      "4  120, Fifth Avenue, Downtown, Pittsburgh, Alleg...  1004   \n",
      "\n",
      "                              name  \\\n",
      "0          Carrick Shopping Center   \n",
      "1  Dormont Village Shopping Center   \n",
      "2     East Liberty Shopping Center   \n",
      "3                  SouthSide Works   \n",
      "4               Fifth Avenue Place   \n",
      "\n",
      "                                                addr  \n",
      "0         2134 Brownsville Road Pittsburgh, PA 15210  \n",
      "1      2947 West Liberty Avenue Pittsburgh, PA 15216  \n",
      "2  5956 Centre Avenue Pittsburgh, Pennsylvania 15206  \n",
      "3  424 South 27th Street Pittsburgh, Pennsylvania...  \n",
      "4    120 Fifth Avenue Pittsburgh, Pennsylvania 15222  \n"
     ]
    }
   ],
   "source": [
    "#NON-EDITABLE TEST CELL\n",
    "# Check the join output\n",
    "print(geodata.head())"
   ]
  },
  {
   "cell_type": "markdown",
   "metadata": {},
   "source": [
    "- Save the output as a Shapefile called `shopping_centers.shp` "
   ]
  },
  {
   "cell_type": "code",
   "execution_count": 14,
   "metadata": {
    "deletable": false,
    "nbgrader": {
     "cell_type": "code",
     "checksum": "362eacaf5abe4a319dda3a28a04ef594",
     "grade": false,
     "grade_id": "save_data",
     "locked": false,
     "schema_version": 3,
     "solution": true
    }
   },
   "outputs": [],
   "source": [
    "# Define output filepath\n",
    "out_fp = \"shopping_centers.shp\"\n",
    "\n",
    "# Save file\n",
    "geodata.to_file(out_fp)"
   ]
  },
  {
   "cell_type": "code",
   "execution_count": 15,
   "metadata": {
    "deletable": false,
    "editable": false,
    "nbgrader": {
     "cell_type": "code",
     "checksum": "80aac786841c50c2fd08ca078bc13a56",
     "grade": true,
     "grade_id": "problem_1_save_data_test",
     "locked": true,
     "points": 0.5,
     "schema_version": 3,
     "solution": false
    }
   },
   "outputs": [
    {
     "name": "stdout",
     "output_type": "stream",
     "text": [
      "Geocoded output is stored in this file: shopping_centers.shp\n"
     ]
    }
   ],
   "source": [
    "#NON-EDITABLE TEST CELL\n",
    "# Print info about output file\n",
    "print(\"Geocoded output is stored in this file:\", out_fp)"
   ]
  },
  {
   "cell_type": "markdown",
   "metadata": {},
   "source": [
    "## Problem 2: Create buffers around shopping centers (5 points)\n",
    "\n",
    "Let's continue with our case study and calculate a 1.5 km buffer around the geocoded points. \n",
    "\n",
    "\n",
    "- Start by creating a new column called `buffer` to ``geodata`` GeoDataFrame:"
   ]
  },
  {
   "cell_type": "code",
   "execution_count": 16,
   "metadata": {
    "deletable": false,
    "nbgrader": {
     "cell_type": "code",
     "checksum": "908d9a6ea9f7776e8eeeefcfe920c9a0",
     "grade": false,
     "grade_id": "new_column",
     "locked": false,
     "schema_version": 3,
     "solution": true
    }
   },
   "outputs": [],
   "source": [
    "geodata = geodata.assign(buffer=0)"
   ]
  },
  {
   "cell_type": "code",
   "execution_count": 17,
   "metadata": {},
   "outputs": [
    {
     "data": {
      "text/html": [
       "<div>\n",
       "<style scoped>\n",
       "    .dataframe tbody tr th:only-of-type {\n",
       "        vertical-align: middle;\n",
       "    }\n",
       "\n",
       "    .dataframe tbody tr th {\n",
       "        vertical-align: top;\n",
       "    }\n",
       "\n",
       "    .dataframe thead th {\n",
       "        text-align: right;\n",
       "    }\n",
       "</style>\n",
       "<table border=\"1\" class=\"dataframe\">\n",
       "  <thead>\n",
       "    <tr style=\"text-align: right;\">\n",
       "      <th></th>\n",
       "      <th>geometry</th>\n",
       "      <th>address</th>\n",
       "      <th>id</th>\n",
       "      <th>name</th>\n",
       "      <th>addr</th>\n",
       "      <th>buffer</th>\n",
       "    </tr>\n",
       "  </thead>\n",
       "  <tbody>\n",
       "    <tr>\n",
       "      <th>0</th>\n",
       "      <td>POINT (1345553.385 393742.788)</td>\n",
       "      <td>2134, Brownsville Road, Carrick, Pittsburgh, A...</td>\n",
       "      <td>1000</td>\n",
       "      <td>Carrick Shopping Center</td>\n",
       "      <td>2134 Brownsville Road Pittsburgh, PA 15210</td>\n",
       "      <td>0</td>\n",
       "    </tr>\n",
       "    <tr>\n",
       "      <th>1</th>\n",
       "      <td>POINT (1333875.918 395820.492)</td>\n",
       "      <td>West Liberty Avenue, Beechview, Pittsburgh, Al...</td>\n",
       "      <td>1001</td>\n",
       "      <td>Dormont Village Shopping Center</td>\n",
       "      <td>2947 West Liberty Avenue Pittsburgh, PA 15216</td>\n",
       "      <td>0</td>\n",
       "    </tr>\n",
       "    <tr>\n",
       "      <th>2</th>\n",
       "      <td>POINT (1362919.916 417561.101)</td>\n",
       "      <td>Fine Wine &amp; Good Spirits, 5956, Centre Avenue,...</td>\n",
       "      <td>1002</td>\n",
       "      <td>East Liberty Shopping Center</td>\n",
       "      <td>5956 Centre Avenue Pittsburgh, Pennsylvania 15206</td>\n",
       "      <td>0</td>\n",
       "    </tr>\n",
       "    <tr>\n",
       "      <th>3</th>\n",
       "      <td>POINT (1351046.940 405434.930)</td>\n",
       "      <td>South 27th Street, South Side Slopes, Pittsbur...</td>\n",
       "      <td>1003</td>\n",
       "      <td>SouthSide Works</td>\n",
       "      <td>424 South 27th Street Pittsburgh, Pennsylvania...</td>\n",
       "      <td>0</td>\n",
       "    </tr>\n",
       "    <tr>\n",
       "      <th>4</th>\n",
       "      <td>POINT (1341532.584 411706.432)</td>\n",
       "      <td>120, Fifth Avenue, Downtown, Pittsburgh, Alleg...</td>\n",
       "      <td>1004</td>\n",
       "      <td>Fifth Avenue Place</td>\n",
       "      <td>120 Fifth Avenue Pittsburgh, Pennsylvania 15222</td>\n",
       "      <td>0</td>\n",
       "    </tr>\n",
       "    <tr>\n",
       "      <th>5</th>\n",
       "      <td>POINT (1348702.001 407687.469)</td>\n",
       "      <td>Giant Eagle, 2021, Wharton Street, South Side ...</td>\n",
       "      <td>1005</td>\n",
       "      <td>Wharton Square</td>\n",
       "      <td>2021 Wharton Street Pittsburgh, Pennsylvania</td>\n",
       "      <td>0</td>\n",
       "    </tr>\n",
       "    <tr>\n",
       "      <th>6</th>\n",
       "      <td>POINT (1326733.406 406990.858)</td>\n",
       "      <td>Fine Wine &amp; Good Spirits, 2350, Noblestown Roa...</td>\n",
       "      <td>1006</td>\n",
       "      <td>Noble Manor Shopping Center</td>\n",
       "      <td>2350 Noblestown Road, Pittsburgh, PA 15205</td>\n",
       "      <td>0</td>\n",
       "    </tr>\n",
       "    <tr>\n",
       "      <th>7</th>\n",
       "      <td>POINT (1362188.180 403179.264)</td>\n",
       "      <td>826, Hazelwood Avenue, Greenfield, Pittsburgh,...</td>\n",
       "      <td>1007</td>\n",
       "      <td>Squirrel Hill Plaza</td>\n",
       "      <td>826 Hazelwood Avenue, Pittsburgh, PA 15217</td>\n",
       "      <td>0</td>\n",
       "    </tr>\n",
       "  </tbody>\n",
       "</table>\n",
       "</div>"
      ],
      "text/plain": [
       "                         geometry  \\\n",
       "0  POINT (1345553.385 393742.788)   \n",
       "1  POINT (1333875.918 395820.492)   \n",
       "2  POINT (1362919.916 417561.101)   \n",
       "3  POINT (1351046.940 405434.930)   \n",
       "4  POINT (1341532.584 411706.432)   \n",
       "5  POINT (1348702.001 407687.469)   \n",
       "6  POINT (1326733.406 406990.858)   \n",
       "7  POINT (1362188.180 403179.264)   \n",
       "\n",
       "                                             address    id  \\\n",
       "0  2134, Brownsville Road, Carrick, Pittsburgh, A...  1000   \n",
       "1  West Liberty Avenue, Beechview, Pittsburgh, Al...  1001   \n",
       "2  Fine Wine & Good Spirits, 5956, Centre Avenue,...  1002   \n",
       "3  South 27th Street, South Side Slopes, Pittsbur...  1003   \n",
       "4  120, Fifth Avenue, Downtown, Pittsburgh, Alleg...  1004   \n",
       "5  Giant Eagle, 2021, Wharton Street, South Side ...  1005   \n",
       "6  Fine Wine & Good Spirits, 2350, Noblestown Roa...  1006   \n",
       "7  826, Hazelwood Avenue, Greenfield, Pittsburgh,...  1007   \n",
       "\n",
       "                              name  \\\n",
       "0          Carrick Shopping Center   \n",
       "1  Dormont Village Shopping Center   \n",
       "2     East Liberty Shopping Center   \n",
       "3                  SouthSide Works   \n",
       "4               Fifth Avenue Place   \n",
       "5                   Wharton Square   \n",
       "6      Noble Manor Shopping Center   \n",
       "7              Squirrel Hill Plaza   \n",
       "\n",
       "                                                addr  buffer  \n",
       "0         2134 Brownsville Road Pittsburgh, PA 15210       0  \n",
       "1      2947 West Liberty Avenue Pittsburgh, PA 15216       0  \n",
       "2  5956 Centre Avenue Pittsburgh, Pennsylvania 15206       0  \n",
       "3  424 South 27th Street Pittsburgh, Pennsylvania...       0  \n",
       "4    120 Fifth Avenue Pittsburgh, Pennsylvania 15222       0  \n",
       "5       2021 Wharton Street Pittsburgh, Pennsylvania       0  \n",
       "6         2350 Noblestown Road, Pittsburgh, PA 15205       0  \n",
       "7         826 Hazelwood Avenue, Pittsburgh, PA 15217       0  "
      ]
     },
     "execution_count": 17,
     "metadata": {},
     "output_type": "execute_result"
    }
   ],
   "source": [
    "geodata"
   ]
  },
  {
   "cell_type": "markdown",
   "metadata": {},
   "source": [
    "- Calculate a 1.5 km buffer for each geocoded point. Store the buffer geometry in the new `buffer` column.\n",
    "\n",
    "Here, you can use the [GeoDataFrame buffer() method](http://geopandas.org/geometric_manipulations.html#GeoSeries.buffer), which uses Shapely's [buffer](http://toblerity.org/shapely/manual.html#object.buffer) in the bacground. You only need to use the `distance` -parameter, don't worry about the other parameters."
   ]
  },
  {
   "cell_type": "code",
   "execution_count": 18,
   "metadata": {
    "deletable": false,
    "nbgrader": {
     "cell_type": "code",
     "checksum": "f45cb9b3fa88f50f0f83991d3f132643",
     "grade": false,
     "grade_id": "buffer",
     "locked": false,
     "schema_version": 3,
     "solution": true
    }
   },
   "outputs": [],
   "source": [
    "geodata['buffer'] = geodata.buffer(1.5)"
   ]
  },
  {
   "cell_type": "code",
   "execution_count": 19,
   "metadata": {},
   "outputs": [
    {
     "name": "stdout",
     "output_type": "stream",
     "text": [
      "0    POLYGON ((1345554.885 393742.788, 1345554.878 ...\n",
      "1    POLYGON ((1333877.418 395820.492, 1333877.410 ...\n",
      "2    POLYGON ((1362921.416 417561.101, 1362921.409 ...\n",
      "3    POLYGON ((1351048.440 405434.930, 1351048.433 ...\n",
      "4    POLYGON ((1341534.084 411706.432, 1341534.077 ...\n",
      "5    POLYGON ((1348703.501 407687.469, 1348703.494 ...\n",
      "6    POLYGON ((1326734.906 406990.858, 1326734.899 ...\n",
      "7    POLYGON ((1362189.680 403179.264, 1362189.673 ...\n",
      "Name: buffer, dtype: geometry\n"
     ]
    }
   ],
   "source": [
    "print(geodata['buffer'])"
   ]
  },
  {
   "cell_type": "code",
   "execution_count": 20,
   "metadata": {
    "deletable": false,
    "editable": false,
    "nbgrader": {
     "cell_type": "code",
     "checksum": "e2765a36c4eb2331624d3b990eccfe9f",
     "grade": true,
     "grade_id": "problem_2_column_test",
     "locked": true,
     "points": 1,
     "schema_version": 3,
     "solution": false,
     "task": false
    }
   },
   "outputs": [
    {
     "name": "stdout",
     "output_type": "stream",
     "text": [
      "                         geometry  \\\n",
      "0  POINT (1345553.385 393742.788)   \n",
      "1  POINT (1333875.918 395820.492)   \n",
      "2  POINT (1362919.916 417561.101)   \n",
      "3  POINT (1351046.940 405434.930)   \n",
      "4  POINT (1341532.584 411706.432)   \n",
      "\n",
      "                                             address    id  \\\n",
      "0  2134, Brownsville Road, Carrick, Pittsburgh, A...  1000   \n",
      "1  West Liberty Avenue, Beechview, Pittsburgh, Al...  1001   \n",
      "2  Fine Wine & Good Spirits, 5956, Centre Avenue,...  1002   \n",
      "3  South 27th Street, South Side Slopes, Pittsbur...  1003   \n",
      "4  120, Fifth Avenue, Downtown, Pittsburgh, Alleg...  1004   \n",
      "\n",
      "                              name  \\\n",
      "0          Carrick Shopping Center   \n",
      "1  Dormont Village Shopping Center   \n",
      "2     East Liberty Shopping Center   \n",
      "3                  SouthSide Works   \n",
      "4               Fifth Avenue Place   \n",
      "\n",
      "                                                addr  \\\n",
      "0         2134 Brownsville Road Pittsburgh, PA 15210   \n",
      "1      2947 West Liberty Avenue Pittsburgh, PA 15216   \n",
      "2  5956 Centre Avenue Pittsburgh, Pennsylvania 15206   \n",
      "3  424 South 27th Street Pittsburgh, Pennsylvania...   \n",
      "4    120 Fifth Avenue Pittsburgh, Pennsylvania 15222   \n",
      "\n",
      "                                              buffer  \n",
      "0  POLYGON ((1345554.885 393742.788, 1345554.878 ...  \n",
      "1  POLYGON ((1333877.418 395820.492, 1333877.410 ...  \n",
      "2  POLYGON ((1362921.416 417561.101, 1362921.409 ...  \n",
      "3  POLYGON ((1351048.440 405434.930, 1351048.433 ...  \n",
      "4  POLYGON ((1341534.084 411706.432, 1341534.077 ...  \n"
     ]
    }
   ],
   "source": [
    "#NON-EDITABLE TEST CELL\n",
    "print(geodata.head())"
   ]
  },
  {
   "cell_type": "code",
   "execution_count": 21,
   "metadata": {
    "deletable": false,
    "editable": false,
    "nbgrader": {
     "cell_type": "code",
     "checksum": "3aa92b08ec2320d792f9de905622df3d",
     "grade": true,
     "grade_id": "problem_2_shape_test",
     "locked": true,
     "points": 1,
     "schema_version": 3,
     "solution": false,
     "task": false
    }
   },
   "outputs": [
    {
     "name": "stdout",
     "output_type": "stream",
     "text": [
      "<class 'shapely.geometry.polygon.Polygon'>\n"
     ]
    }
   ],
   "source": [
    "#NON-EDITABLE TEST CELL\n",
    "# Check the data type of the first value in the buffer-column\n",
    "print(type(geodata.at[0,'buffer']))"
   ]
  },
  {
   "cell_type": "code",
   "execution_count": 22,
   "metadata": {
    "deletable": false,
    "editable": false,
    "nbgrader": {
     "cell_type": "code",
     "checksum": "d6e0fe9059fff655e76e4ca36a024253",
     "grade": true,
     "grade_id": "problem_2_buffer_test",
     "locked": true,
     "points": 2,
     "schema_version": 3,
     "solution": false
    }
   },
   "outputs": [
    {
     "name": "stdout",
     "output_type": "stream",
     "text": [
      "0    0.0\n",
      "1    0.0\n",
      "2    0.0\n",
      "3    0.0\n",
      "4    0.0\n",
      "5    0.0\n",
      "6    0.0\n",
      "7    0.0\n",
      "dtype: float64\n"
     ]
    }
   ],
   "source": [
    "#NON-EDITABLE TEST CELL\n",
    "# Check the areas of your buffers in km^2\n",
    "print(round(gpd.GeoSeries(geodata[\"buffer\"]).area / 1000000))"
   ]
  },
  {
   "cell_type": "markdown",
   "metadata": {},
   "source": [
    "- Replace the values in `geometry` column with the values of `buffer` column:"
   ]
  },
  {
   "cell_type": "code",
   "execution_count": 23,
   "metadata": {
    "deletable": false,
    "nbgrader": {
     "cell_type": "code",
     "checksum": "4dbc3cfc149f2391c1c6b4274603a8e9",
     "grade": false,
     "grade_id": "geometry",
     "locked": false,
     "schema_version": 3,
     "solution": true
    }
   },
   "outputs": [],
   "source": [
    "geodata['geometry'] = geodata['buffer']"
   ]
  },
  {
   "cell_type": "code",
   "execution_count": 24,
   "metadata": {
    "deletable": false,
    "editable": false,
    "nbgrader": {
     "cell_type": "code",
     "checksum": "47a972c42e423c1597440885fa571d34",
     "grade": true,
     "grade_id": "problem_2_geometry_test",
     "locked": true,
     "points": 1,
     "schema_version": 3,
     "solution": false
    }
   },
   "outputs": [
    {
     "name": "stdout",
     "output_type": "stream",
     "text": [
      "                                            geometry  \\\n",
      "0  POLYGON ((1345554.885 393742.788, 1345554.878 ...   \n",
      "1  POLYGON ((1333877.418 395820.492, 1333877.410 ...   \n",
      "2  POLYGON ((1362921.416 417561.101, 1362921.409 ...   \n",
      "3  POLYGON ((1351048.440 405434.930, 1351048.433 ...   \n",
      "4  POLYGON ((1341534.084 411706.432, 1341534.077 ...   \n",
      "\n",
      "                                             address    id  \\\n",
      "0  2134, Brownsville Road, Carrick, Pittsburgh, A...  1000   \n",
      "1  West Liberty Avenue, Beechview, Pittsburgh, Al...  1001   \n",
      "2  Fine Wine & Good Spirits, 5956, Centre Avenue,...  1002   \n",
      "3  South 27th Street, South Side Slopes, Pittsbur...  1003   \n",
      "4  120, Fifth Avenue, Downtown, Pittsburgh, Alleg...  1004   \n",
      "\n",
      "                              name  \\\n",
      "0          Carrick Shopping Center   \n",
      "1  Dormont Village Shopping Center   \n",
      "2     East Liberty Shopping Center   \n",
      "3                  SouthSide Works   \n",
      "4               Fifth Avenue Place   \n",
      "\n",
      "                                                addr  \\\n",
      "0         2134 Brownsville Road Pittsburgh, PA 15210   \n",
      "1      2947 West Liberty Avenue Pittsburgh, PA 15216   \n",
      "2  5956 Centre Avenue Pittsburgh, Pennsylvania 15206   \n",
      "3  424 South 27th Street Pittsburgh, Pennsylvania...   \n",
      "4    120 Fifth Avenue Pittsburgh, Pennsylvania 15222   \n",
      "\n",
      "                                              buffer  \n",
      "0  POLYGON ((1345554.885 393742.788, 1345554.878 ...  \n",
      "1  POLYGON ((1333877.418 395820.492, 1333877.410 ...  \n",
      "2  POLYGON ((1362921.416 417561.101, 1362921.409 ...  \n",
      "3  POLYGON ((1351048.440 405434.930, 1351048.433 ...  \n",
      "4  POLYGON ((1341534.084 411706.432, 1341534.077 ...  \n"
     ]
    }
   ],
   "source": [
    "#NON-EDITABLE TEST CELL\n",
    "print(geodata.head())"
   ]
  },
  {
   "cell_type": "markdown",
   "metadata": {},
   "source": [
    "Optional: at this point, you can drop out unnecessary columns from the geodataframe. In the next problem, \n",
    "we will only need these columns: `'id', 'name', 'geometry'`"
   ]
  },
  {
   "cell_type": "code",
   "execution_count": 25,
   "metadata": {},
   "outputs": [],
   "source": [
    "geodata = geodata[['id', 'name', 'geometry']]"
   ]
  },
  {
   "cell_type": "code",
   "execution_count": 26,
   "metadata": {},
   "outputs": [
    {
     "data": {
      "text/html": [
       "<div>\n",
       "<style scoped>\n",
       "    .dataframe tbody tr th:only-of-type {\n",
       "        vertical-align: middle;\n",
       "    }\n",
       "\n",
       "    .dataframe tbody tr th {\n",
       "        vertical-align: top;\n",
       "    }\n",
       "\n",
       "    .dataframe thead th {\n",
       "        text-align: right;\n",
       "    }\n",
       "</style>\n",
       "<table border=\"1\" class=\"dataframe\">\n",
       "  <thead>\n",
       "    <tr style=\"text-align: right;\">\n",
       "      <th></th>\n",
       "      <th>id</th>\n",
       "      <th>name</th>\n",
       "      <th>geometry</th>\n",
       "    </tr>\n",
       "  </thead>\n",
       "  <tbody>\n",
       "    <tr>\n",
       "      <th>0</th>\n",
       "      <td>1000</td>\n",
       "      <td>Carrick Shopping Center</td>\n",
       "      <td>POLYGON ((1345554.885 393742.788, 1345554.878 ...</td>\n",
       "    </tr>\n",
       "    <tr>\n",
       "      <th>1</th>\n",
       "      <td>1001</td>\n",
       "      <td>Dormont Village Shopping Center</td>\n",
       "      <td>POLYGON ((1333877.418 395820.492, 1333877.410 ...</td>\n",
       "    </tr>\n",
       "    <tr>\n",
       "      <th>2</th>\n",
       "      <td>1002</td>\n",
       "      <td>East Liberty Shopping Center</td>\n",
       "      <td>POLYGON ((1362921.416 417561.101, 1362921.409 ...</td>\n",
       "    </tr>\n",
       "    <tr>\n",
       "      <th>3</th>\n",
       "      <td>1003</td>\n",
       "      <td>SouthSide Works</td>\n",
       "      <td>POLYGON ((1351048.440 405434.930, 1351048.433 ...</td>\n",
       "    </tr>\n",
       "    <tr>\n",
       "      <th>4</th>\n",
       "      <td>1004</td>\n",
       "      <td>Fifth Avenue Place</td>\n",
       "      <td>POLYGON ((1341534.084 411706.432, 1341534.077 ...</td>\n",
       "    </tr>\n",
       "    <tr>\n",
       "      <th>5</th>\n",
       "      <td>1005</td>\n",
       "      <td>Wharton Square</td>\n",
       "      <td>POLYGON ((1348703.501 407687.469, 1348703.494 ...</td>\n",
       "    </tr>\n",
       "    <tr>\n",
       "      <th>6</th>\n",
       "      <td>1006</td>\n",
       "      <td>Noble Manor Shopping Center</td>\n",
       "      <td>POLYGON ((1326734.906 406990.858, 1326734.899 ...</td>\n",
       "    </tr>\n",
       "    <tr>\n",
       "      <th>7</th>\n",
       "      <td>1007</td>\n",
       "      <td>Squirrel Hill Plaza</td>\n",
       "      <td>POLYGON ((1362189.680 403179.264, 1362189.673 ...</td>\n",
       "    </tr>\n",
       "  </tbody>\n",
       "</table>\n",
       "</div>"
      ],
      "text/plain": [
       "     id                             name  \\\n",
       "0  1000          Carrick Shopping Center   \n",
       "1  1001  Dormont Village Shopping Center   \n",
       "2  1002     East Liberty Shopping Center   \n",
       "3  1003                  SouthSide Works   \n",
       "4  1004               Fifth Avenue Place   \n",
       "5  1005                   Wharton Square   \n",
       "6  1006      Noble Manor Shopping Center   \n",
       "7  1007              Squirrel Hill Plaza   \n",
       "\n",
       "                                            geometry  \n",
       "0  POLYGON ((1345554.885 393742.788, 1345554.878 ...  \n",
       "1  POLYGON ((1333877.418 395820.492, 1333877.410 ...  \n",
       "2  POLYGON ((1362921.416 417561.101, 1362921.409 ...  \n",
       "3  POLYGON ((1351048.440 405434.930, 1351048.433 ...  \n",
       "4  POLYGON ((1341534.084 411706.432, 1341534.077 ...  \n",
       "5  POLYGON ((1348703.501 407687.469, 1348703.494 ...  \n",
       "6  POLYGON ((1326734.906 406990.858, 1326734.899 ...  \n",
       "7  POLYGON ((1362189.680 403179.264, 1362189.673 ...  "
      ]
     },
     "execution_count": 26,
     "metadata": {},
     "output_type": "execute_result"
    }
   ],
   "source": [
    "geodata"
   ]
  },
  {
   "cell_type": "markdown",
   "metadata": {},
   "source": [
    "## Problem 3: How many people live near shopping centers? (5 points)\n",
    "\n",
    "Last step in our analysis is to make a spatial join between our buffer layer and population data in order to find out **how many people live near each shopping center**. We will use the same data as we did during [lesson 3](https://automating-gis-processes.github.io/site/notebooks/L3/spatial-join.html#Spatial-join); **a Population Grid** that is available via the HSY wfs. \n",
    "\n",
    "Alternatively, you can also download the data from the [Helsinki Region Infoshare (HRI)](https://hri.fi/data/en_GB/dataset/vaestotietoruudukko) on your computer and read it in using geopandas.\n",
    "\n",
    "The coordinate reference system of the population grid is **ETRS GK-25 (EPSG:3879)**.\n",
    "\n",
    "\n",
    "**Steps:**\n",
    "\n",
    "- Read the population grid into a geodataframe\n",
    "\n",
    "- Select only the useful columns from the population grid: ``'asukkaita'`` (=population count per grid square) and ``'geometry'`` \n",
    "\n",
    "- Make a spatial join between your buffered point layer and population grid layer. Join the information now from buffer layer **into the population grid layer**\n",
    "\n",
    "- Group the joined layer by shopping center index\n",
    "\n",
    "- Calculate the sum of population living within 1.5 km for each shopping center.\n",
    "\n",
    "**Finally:**\n",
    "\n",
    "- Print out the population living within 1.5 km from each shopping center:\n",
    "\n",
    "     - Itis\n",
    "     - Forum\n",
    "     - Iso-omena\n",
    "     - Sello\n",
    "     - Jumbo\n",
    "     - REDI\n",
    "     - Mall of Tripla\n",
    "     \n",
    "**Final print out should contain both the shopping center name and population count**, for example: `25858 people live within 1.5 km from Iso-Omena`.\n",
    "\n",
    "*Feel free to divide your solution into several codeblocks! Remember to comment your code  :)*"
   ]
  },
  {
   "cell_type": "code",
   "execution_count": 27,
   "metadata": {
    "deletable": false,
    "nbgrader": {
     "cell_type": "code",
     "checksum": "629fe93329c8fe47162e31b2cd8c260e",
     "grade": false,
     "grade_id": "read_wfs",
     "locked": false,
     "schema_version": 3,
     "solution": true,
     "task": false
    }
   },
   "outputs": [
    {
     "data": {
      "text/html": [
       "<div>\n",
       "<style scoped>\n",
       "    .dataframe tbody tr th:only-of-type {\n",
       "        vertical-align: middle;\n",
       "    }\n",
       "\n",
       "    .dataframe tbody tr th {\n",
       "        vertical-align: top;\n",
       "    }\n",
       "\n",
       "    .dataframe thead th {\n",
       "        text-align: right;\n",
       "    }\n",
       "</style>\n",
       "<table border=\"1\" class=\"dataframe\">\n",
       "  <thead>\n",
       "    <tr style=\"text-align: right;\">\n",
       "      <th></th>\n",
       "      <th>X</th>\n",
       "      <th>Y</th>\n",
       "      <th>Z</th>\n",
       "      <th>geometry</th>\n",
       "    </tr>\n",
       "  </thead>\n",
       "  <tbody>\n",
       "    <tr>\n",
       "      <th>0</th>\n",
       "      <td>-79.8470829989500146</td>\n",
       "      <td>42.4870833647600321</td>\n",
       "      <td>0.00126862491015344858</td>\n",
       "      <td>None</td>\n",
       "    </tr>\n",
       "    <tr>\n",
       "      <th>1</th>\n",
       "      <td>-79.8387496656500133</td>\n",
       "      <td>42.4870833647600321</td>\n",
       "      <td>0.0007204595603980124</td>\n",
       "      <td>None</td>\n",
       "    </tr>\n",
       "    <tr>\n",
       "      <th>2</th>\n",
       "      <td>-79.830416332350012</td>\n",
       "      <td>42.4870833647600321</td>\n",
       "      <td>0.000185061944648623466</td>\n",
       "      <td>None</td>\n",
       "    </tr>\n",
       "    <tr>\n",
       "      <th>3</th>\n",
       "      <td>-79.8720829988500185</td>\n",
       "      <td>42.4787500314600308</td>\n",
       "      <td>0.00144155754242092371</td>\n",
       "      <td>None</td>\n",
       "    </tr>\n",
       "    <tr>\n",
       "      <th>4</th>\n",
       "      <td>-79.8637496655500172</td>\n",
       "      <td>42.4787500314600308</td>\n",
       "      <td>0.000982961966656148434</td>\n",
       "      <td>None</td>\n",
       "    </tr>\n",
       "  </tbody>\n",
       "</table>\n",
       "</div>"
      ],
      "text/plain": [
       "                      X                    Y                        Z geometry\n",
       "0  -79.8470829989500146  42.4870833647600321   0.00126862491015344858     None\n",
       "1  -79.8387496656500133  42.4870833647600321    0.0007204595603980124     None\n",
       "2   -79.830416332350012  42.4870833647600321  0.000185061944648623466     None\n",
       "3  -79.8720829988500185  42.4787500314600308   0.00144155754242092371     None\n",
       "4  -79.8637496655500172  42.4787500314600308  0.000982961966656148434     None"
      ]
     },
     "execution_count": 27,
     "metadata": {},
     "output_type": "execute_result"
    }
   ],
   "source": [
    "# Read population grid data for 2018 into a variable `pop`. \n",
    "# Remember to check the crs info!\n",
    "import geopandas as gpd\n",
    "from pyproj import CRS\n",
    "\n",
    "fp = \"PA_popgrid.csv\"\n",
    "pop = gpd.read_file(fp)\n",
    "\n",
    "pop.head()"
   ]
  },
  {
   "cell_type": "code",
   "execution_count": 28,
   "metadata": {
    "deletable": false,
    "editable": false,
    "nbgrader": {
     "cell_type": "code",
     "checksum": "8fe4f1ecd4466cf975714202c832be7e",
     "grade": true,
     "grade_id": "problem_3_read_data_test",
     "locked": true,
     "points": 1,
     "schema_version": 3,
     "solution": false,
     "task": false
    }
   },
   "outputs": [
    {
     "name": "stdout",
     "output_type": "stream",
     "text": [
      "Number of rows: 180407\n",
      "                      X                    Y                        Z geometry\n",
      "0  -79.8470829989500146  42.4870833647600321   0.00126862491015344858     None\n",
      "1  -79.8387496656500133  42.4870833647600321    0.0007204595603980124     None\n",
      "2   -79.830416332350012  42.4870833647600321  0.000185061944648623466     None\n"
     ]
    }
   ],
   "source": [
    "#NON-EDITABLE TEST CELL\n",
    "# Check your input data\n",
    "print(\"Number of rows:\", len(pop))\n",
    "print(pop.head(3))"
   ]
  },
  {
   "cell_type": "code",
   "execution_count": 30,
   "metadata": {},
   "outputs": [],
   "source": [
    "# Import necessary geometric objects from shapely module\n",
    "from shapely.geometry import Point, LineString, Polygon"
   ]
  },
  {
   "cell_type": "code",
   "execution_count": 29,
   "metadata": {},
   "outputs": [
    {
     "name": "stdout",
     "output_type": "stream",
     "text": [
      "<class 'str'>\n"
     ]
    }
   ],
   "source": [
    "print(type(pop.at[0,'X']))"
   ]
  },
  {
   "cell_type": "code",
   "execution_count": null,
   "metadata": {
    "deletable": false,
    "nbgrader": {
     "cell_type": "code",
     "checksum": "92e87958a8ce4e2b8e5ae77689445df8",
     "grade": false,
     "grade_id": "spatial_join",
     "locked": false,
     "schema_version": 3,
     "solution": true
    }
   },
   "outputs": [],
   "source": [
    "# Create a spatial join between grid layer and buffer layer. \n",
    "\n",
    "# REPLACE THE ERROR BELOW WITH YOUR OWN CODE\n",
    "raise NotImplementedError()"
   ]
  },
  {
   "cell_type": "code",
   "execution_count": null,
   "metadata": {
    "deletable": false,
    "nbgrader": {
     "cell_type": "code",
     "checksum": "fe6b621e6f3d39eb5aa375c864268a03",
     "grade": false,
     "grade_id": "print_results",
     "locked": false,
     "schema_version": 3,
     "solution": true,
     "task": false
    }
   },
   "outputs": [],
   "source": [
    "# Report how many people live within 1.5 km distance from each shopping center\n",
    "\n",
    "# REPLACE THE ERROR BELOW WITH YOUR OWN CODE\n",
    "raise NotImplementedError()"
   ]
  },
  {
   "cell_type": "markdown",
   "metadata": {},
   "source": [
    "**Reflections:**\n",
    "    \n",
    "- How challenging did you find problems 1-3 (on scale to 1-5), and why?\n",
    "- What was easy?\n",
    "- What was difficult?"
   ]
  },
  {
   "cell_type": "markdown",
   "metadata": {
    "deletable": false,
    "nbgrader": {
     "cell_type": "markdown",
     "checksum": "ae8c161a5ec09a095453240cd41b6da8",
     "grade": true,
     "grade_id": "problem_3_Check_problem_3",
     "locked": false,
     "points": 4,
     "schema_version": 3,
     "solution": true
    }
   },
   "source": [
    "YOUR ANSWER HERE"
   ]
  },
  {
   "cell_type": "markdown",
   "metadata": {},
   "source": [
    "Well done! Now you can continue to [problem 4](Exercise-3-Problem-4.ipynb)"
   ]
  }
 ],
 "metadata": {
  "anaconda-cloud": {},
  "kernelspec": {
   "display_name": "Python 3",
   "language": "python",
   "name": "python3"
  },
  "language_info": {
   "codemirror_mode": {
    "name": "ipython",
    "version": 3
   },
   "file_extension": ".py",
   "mimetype": "text/x-python",
   "name": "python",
   "nbconvert_exporter": "python",
   "pygments_lexer": "ipython3",
   "version": "3.7.8"
  }
 },
 "nbformat": 4,
 "nbformat_minor": 4
}
