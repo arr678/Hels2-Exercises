{
 "cells": [
  {
   "cell_type": "markdown",
   "metadata": {},
   "source": [
    "## Problem 1: Geocode shopping centers (5 points)\n",
    "\n",
    "The aim of problems 1-3 is to find out **how many people live within a walking distance (1.5 km) from selected shopping centers in Helsinki**.\n",
    "\n",
    "In problem 1 the task is to find out the addresses for a list of shopping centers and to geocode these addresses in order to represent them as points. The output should be stored in a Shapefile called `shopping_centers.shp` \n",
    "\n",
    "**Preparation:** Find out the addresses for following shopping centers from the internet, and write the addresses into a text file called `shopping_centers.txt`:\n",
    "\n",
    " - Itis\n",
    " - Forum\n",
    " - Iso-omena\n",
    " - Sello\n",
    " - Jumbo\n",
    " - REDI\n",
    " - Mall of Tripla \n",
    " \n",
    "\n",
    "`shopping_centers.txt` should have semicolon (`;`) as a separator, and the file should include the following columns:\n",
    "\n",
    "- ``id`` (integer) containing an unique identifier for each shopping center\n",
    "- ``name`` (string) of each shopping center\n",
    "- ``addr`` (string) the address \n",
    "\n",
    "\n",
    "See and example of how to format the text file [in the lesson 3 materials](https://autogis-site.readthedocs.io/en/latest/notebooks/L3/geocoding_in_geopandas.html). Save (and upload) the text file into your exercise repository.\n",
    "\n",
    "- Read `shopping_centers.txt` that you just created into a pandas DataFrame called ``data``:"
   ]
  },
  {
   "cell_type": "code",
   "execution_count": 1,
   "metadata": {
    "deletable": false,
    "nbgrader": {
     "cell_type": "code",
     "checksum": "7de89a15a19f7c81c62cc7fe98d6b668",
     "grade": false,
     "grade_id": "read_data",
     "locked": false,
     "schema_version": 3,
     "solution": true
    }
   },
   "outputs": [],
   "source": [
    "# Import modules\n",
    "import pandas as pd\n",
    "import geopandas as gpd\n",
    "from shapely.geometry import Point\n",
    "\n",
    "fp = \"shopping_centers.txt\"\n",
    "\n",
    "# Read the data (replace \"None\" with your own code)\n",
    "data = pd.read_csv(fp, sep=';')"
   ]
  },
  {
   "cell_type": "code",
   "execution_count": 2,
   "metadata": {
    "deletable": false,
    "editable": false,
    "nbgrader": {
     "cell_type": "code",
     "checksum": "4e90dc0406dff7a0f4b0860443092087",
     "grade": true,
     "grade_id": "problem_1_read_data_tests",
     "locked": true,
     "points": 1,
     "schema_version": 3,
     "solution": false
    }
   },
   "outputs": [
    {
     "name": "stdout",
     "output_type": "stream",
     "text": [
      "     id                             name  \\\n",
      "0  1000          Carrick Shopping Center   \n",
      "1  1001  Dormont Village Shopping Center   \n",
      "2  1002     East Liberty Shopping Center   \n",
      "3  1003                   Station Square   \n",
      "4  1004               Fifth Avenue Place   \n",
      "5  1005                  SouthSide Works   \n",
      "6  1006                   Wharton Square   \n",
      "7  1007      Noble Manor Shopping Center   \n",
      "\n",
      "                                                addr  \n",
      "0  2134 Brownsville Road Pittsburgh, Pennsylvania...  \n",
      "1  2947 West Liberty Avenue Pittsburgh, Pennsylva...  \n",
      "2  5956 Centre Avenue Pittsburgh, Pennsylvania 15206  \n",
      "3  125 West Station Square Drive Pittbsurgh, Penn...  \n",
      "4    120 Fifth Avenue Pittsburgh, Pennsylvania 15222  \n",
      "5  424 South 27th Street Pittsburgh, Pennsylvania...  \n",
      "6  2021 Wharton Street Pittsburgh, Pennsylvania 1...  \n",
      "7  2350 Noblestown Road Pittsburgh, Pennsylvania ...  \n"
     ]
    }
   ],
   "source": [
    "#NON-EDITABLE TEST CELL\n",
    "# Check your input data\n",
    "print(data)"
   ]
  },
  {
   "cell_type": "code",
   "execution_count": 3,
   "metadata": {},
   "outputs": [
    {
     "data": {
      "text/plain": [
       "array(['id', 'name', 'addr'], dtype=object)"
      ]
     },
     "execution_count": 3,
     "metadata": {},
     "output_type": "execute_result"
    }
   ],
   "source": [
    "data.columns.values"
   ]
  },
  {
   "cell_type": "markdown",
   "metadata": {},
   "source": [
    "- Geocode the addresses using the Nominatim geocoding service. Store the output in a variable called `geo`:"
   ]
  },
  {
   "cell_type": "code",
   "execution_count": 4,
   "metadata": {
    "deletable": false,
    "nbgrader": {
     "cell_type": "code",
     "checksum": "2feb8b7739bd1a824b39c3a1d0af369f",
     "grade": false,
     "grade_id": "geocode",
     "locked": false,
     "schema_version": 3,
     "solution": true
    }
   },
   "outputs": [],
   "source": [
    "from geopandas.tools import geocode"
   ]
  },
  {
   "cell_type": "code",
   "execution_count": 5,
   "metadata": {},
   "outputs": [],
   "source": [
    "geo = geocode(data['addr'], provider='nominatim', user_agent='autogis_xx', timeout=4)"
   ]
  },
  {
   "cell_type": "code",
   "execution_count": 6,
   "metadata": {
    "deletable": false,
    "editable": false,
    "nbgrader": {
     "cell_type": "code",
     "checksum": "a3b8c4fef69c89dbb3299b84c11d3db7",
     "grade": true,
     "grade_id": "problem_1_gdf_test",
     "locked": true,
     "points": 1,
     "schema_version": 3,
     "solution": false,
     "task": false
    }
   },
   "outputs": [
    {
     "name": "stdout",
     "output_type": "stream",
     "text": [
      "                     geometry  \\\n",
      "0  POINT (-79.98670 40.39254)   \n",
      "1  POINT (-80.02880 40.39742)   \n",
      "2  POINT (-79.92787 40.45902)   \n",
      "3    GEOMETRYCOLLECTION EMPTY   \n",
      "4  POINT (-80.00278 40.44155)   \n",
      "5  POINT (-79.96804 40.42500)   \n",
      "6  POINT (-79.97666 40.43102)   \n",
      "7  POINT (-80.05540 40.42720)   \n",
      "\n",
      "                                             address  \n",
      "0  2134, Brownsville Road, Carrick, Pittsburgh, A...  \n",
      "1  West Liberty Avenue, Beechview, Pittsburgh, Al...  \n",
      "2  5956, Centre Avenue, Shadyside, Pittsburgh, Al...  \n",
      "3                                               None  \n",
      "4  120, Fifth Avenue, Downtown, Pittsburgh, Alleg...  \n",
      "5  South 27th Street, South Side Slopes, Pittsbur...  \n",
      "6  Giant Eagle, 2021, Wharton Street, South Side ...  \n",
      "7  2350, Noblestown Road, Oakwood, Pittsburgh, Al...  \n"
     ]
    }
   ],
   "source": [
    "#NON-EDITABLE TEST CELL\n",
    "# Check the geocoded output\n",
    "print(geo)"
   ]
  },
  {
   "cell_type": "code",
   "execution_count": 7,
   "metadata": {
    "deletable": false,
    "editable": false,
    "nbgrader": {
     "cell_type": "code",
     "checksum": "f2e432e605330a668b5bfdbbbd12569e",
     "grade": true,
     "grade_id": "problem_1_geocode_tests",
     "locked": true,
     "points": 1,
     "schema_version": 3,
     "solution": false
    }
   },
   "outputs": [
    {
     "name": "stdout",
     "output_type": "stream",
     "text": [
      "<class 'geopandas.geodataframe.GeoDataFrame'>\n"
     ]
    }
   ],
   "source": [
    "#NON-EDITABLE TEST CELL\n",
    "# Check the data type (should be a GeoDataFrame!)\n",
    "print(type(geo))"
   ]
  },
  {
   "cell_type": "markdown",
   "metadata": {},
   "source": [
    "Check that the coordinate reference system of the geocoded result is correctly defined, and **reproject the layer into ETRS GK-25** (EPSG:3879):"
   ]
  },
  {
   "cell_type": "code",
   "execution_count": 10,
   "metadata": {
    "deletable": false,
    "nbgrader": {
     "cell_type": "code",
     "checksum": "b0159d35f45f5454fae6b5d67858b986",
     "grade": false,
     "grade_id": "crs",
     "locked": false,
     "schema_version": 3,
     "solution": true
    }
   },
   "outputs": [],
   "source": [
    "geo = geo.to_crs(epsg=2272)"
   ]
  },
  {
   "cell_type": "code",
   "execution_count": 11,
   "metadata": {
    "deletable": false,
    "editable": false,
    "nbgrader": {
     "cell_type": "code",
     "checksum": "764cba257612241267e3b2bcc90b5dcd",
     "grade": true,
     "grade_id": "problem_1_crs_test",
     "locked": true,
     "points": 0.5,
     "schema_version": 3,
     "solution": false
    }
   },
   "outputs": [
    {
     "name": "stdout",
     "output_type": "stream",
     "text": [
      "epsg:2272\n"
     ]
    }
   ],
   "source": [
    "#NON-EDITABLE TEST CELL\n",
    "# Check layer crs\n",
    "print(geo.crs)"
   ]
  },
  {
   "cell_type": "markdown",
   "metadata": {},
   "source": [
    "- Make a table join between the geocoded addresses (``geo``) and the original addresses (``data``) in order to link the numerical coordinates and  the `id` and `name` of each shopping center. \n",
    "- Store the output in a variable called ``geodata`` \n"
   ]
  },
  {
   "cell_type": "code",
   "execution_count": 12,
   "metadata": {
    "deletable": false,
    "nbgrader": {
     "cell_type": "code",
     "checksum": "aca9ef4ece824d53650aec8c0fafc38d",
     "grade": false,
     "grade_id": "join",
     "locked": false,
     "schema_version": 3,
     "solution": true
    }
   },
   "outputs": [],
   "source": [
    "# Join the tables\n",
    "geodata = geo.join(data)"
   ]
  },
  {
   "cell_type": "code",
   "execution_count": 13,
   "metadata": {
    "deletable": false,
    "editable": false,
    "nbgrader": {
     "cell_type": "code",
     "checksum": "98d25baeb42eaeb2701f09f42c8c84c5",
     "grade": true,
     "grade_id": "problem_1_join_test",
     "locked": true,
     "points": 1,
     "schema_version": 3,
     "solution": false
    }
   },
   "outputs": [
    {
     "name": "stdout",
     "output_type": "stream",
     "text": [
      "                         geometry  \\\n",
      "0  POINT (1345552.829 393743.231)   \n",
      "1  POINT (1333875.341 395820.950)   \n",
      "2  POINT (1362531.015 417546.367)   \n",
      "3        GEOMETRYCOLLECTION EMPTY   \n",
      "4  POINT (1341532.072 411706.912)   \n",
      "\n",
      "                                             address    id  \\\n",
      "0  2134, Brownsville Road, Carrick, Pittsburgh, A...  1000   \n",
      "1  West Liberty Avenue, Beechview, Pittsburgh, Al...  1001   \n",
      "2  5956, Centre Avenue, Shadyside, Pittsburgh, Al...  1002   \n",
      "3                                               None  1003   \n",
      "4  120, Fifth Avenue, Downtown, Pittsburgh, Alleg...  1004   \n",
      "\n",
      "                              name  \\\n",
      "0          Carrick Shopping Center   \n",
      "1  Dormont Village Shopping Center   \n",
      "2     East Liberty Shopping Center   \n",
      "3                   Station Square   \n",
      "4               Fifth Avenue Place   \n",
      "\n",
      "                                                addr  \n",
      "0  2134 Brownsville Road Pittsburgh, Pennsylvania...  \n",
      "1  2947 West Liberty Avenue Pittsburgh, Pennsylva...  \n",
      "2  5956 Centre Avenue Pittsburgh, Pennsylvania 15206  \n",
      "3  125 West Station Square Drive Pittbsurgh, Penn...  \n",
      "4    120 Fifth Avenue Pittsburgh, Pennsylvania 15222  \n"
     ]
    }
   ],
   "source": [
    "#NON-EDITABLE TEST CELL\n",
    "# Check the join output\n",
    "print(geodata.head())"
   ]
  },
  {
   "cell_type": "markdown",
   "metadata": {},
   "source": [
    "- Save the output as a Shapefile called `shopping_centers.shp` "
   ]
  },
  {
   "cell_type": "code",
   "execution_count": 17,
   "metadata": {
    "deletable": false,
    "nbgrader": {
     "cell_type": "code",
     "checksum": "362eacaf5abe4a319dda3a28a04ef594",
     "grade": false,
     "grade_id": "save_data",
     "locked": false,
     "schema_version": 3,
     "solution": true
    }
   },
   "outputs": [],
   "source": [
    "# Define output filepath\n",
    "out_fp = \"shopping_centers.shp\"\n",
    "\n",
    "# Save file\n",
    "geodata.to_file(out_fp)"
   ]
  },
  {
   "cell_type": "code",
   "execution_count": 18,
   "metadata": {
    "deletable": false,
    "editable": false,
    "nbgrader": {
     "cell_type": "code",
     "checksum": "80aac786841c50c2fd08ca078bc13a56",
     "grade": true,
     "grade_id": "problem_1_save_data_test",
     "locked": true,
     "points": 0.5,
     "schema_version": 3,
     "solution": false
    }
   },
   "outputs": [
    {
     "name": "stdout",
     "output_type": "stream",
     "text": [
      "Geocoded output is stored in this file: shopping_centers.shp\n"
     ]
    }
   ],
   "source": [
    "#NON-EDITABLE TEST CELL\n",
    "# Print info about output file\n",
    "print(\"Geocoded output is stored in this file:\", out_fp)"
   ]
  },
  {
   "cell_type": "markdown",
   "metadata": {},
   "source": [
    "## Problem 2: Create buffers around shopping centers (5 points)\n",
    "\n",
    "Let's continue with our case study and calculate a 1.5 km buffer around the geocoded points. \n",
    "\n",
    "\n",
    "- Start by creating a new column called `buffer` to ``geodata`` GeoDataFrame:"
   ]
  },
  {
   "cell_type": "code",
   "execution_count": 22,
   "metadata": {
    "deletable": false,
    "nbgrader": {
     "cell_type": "code",
     "checksum": "908d9a6ea9f7776e8eeeefcfe920c9a0",
     "grade": false,
     "grade_id": "new_column",
     "locked": false,
     "schema_version": 3,
     "solution": true
    }
   },
   "outputs": [],
   "source": [
    "geodata = geodata.assign(buffer=0)"
   ]
  },
  {
   "cell_type": "code",
   "execution_count": 23,
   "metadata": {},
   "outputs": [
    {
     "data": {
      "text/html": [
       "<div>\n",
       "<style scoped>\n",
       "    .dataframe tbody tr th:only-of-type {\n",
       "        vertical-align: middle;\n",
       "    }\n",
       "\n",
       "    .dataframe tbody tr th {\n",
       "        vertical-align: top;\n",
       "    }\n",
       "\n",
       "    .dataframe thead th {\n",
       "        text-align: right;\n",
       "    }\n",
       "</style>\n",
       "<table border=\"1\" class=\"dataframe\">\n",
       "  <thead>\n",
       "    <tr style=\"text-align: right;\">\n",
       "      <th></th>\n",
       "      <th>geometry</th>\n",
       "      <th>address</th>\n",
       "      <th>id</th>\n",
       "      <th>name</th>\n",
       "      <th>addr</th>\n",
       "      <th>buffer</th>\n",
       "    </tr>\n",
       "  </thead>\n",
       "  <tbody>\n",
       "    <tr>\n",
       "      <th>0</th>\n",
       "      <td>POINT (1345552.829 393743.231)</td>\n",
       "      <td>2134, Brownsville Road, Carrick, Pittsburgh, A...</td>\n",
       "      <td>1000</td>\n",
       "      <td>Carrick Shopping Center</td>\n",
       "      <td>2134 Brownsville Road Pittsburgh, Pennsylvania...</td>\n",
       "      <td>0</td>\n",
       "    </tr>\n",
       "    <tr>\n",
       "      <th>1</th>\n",
       "      <td>POINT (1333875.341 395820.950)</td>\n",
       "      <td>West Liberty Avenue, Beechview, Pittsburgh, Al...</td>\n",
       "      <td>1001</td>\n",
       "      <td>Dormont Village Shopping Center</td>\n",
       "      <td>2947 West Liberty Avenue Pittsburgh, Pennsylva...</td>\n",
       "      <td>0</td>\n",
       "    </tr>\n",
       "    <tr>\n",
       "      <th>2</th>\n",
       "      <td>POINT (1362531.015 417546.367)</td>\n",
       "      <td>5956, Centre Avenue, Shadyside, Pittsburgh, Al...</td>\n",
       "      <td>1002</td>\n",
       "      <td>East Liberty Shopping Center</td>\n",
       "      <td>5956 Centre Avenue Pittsburgh, Pennsylvania 15206</td>\n",
       "      <td>0</td>\n",
       "    </tr>\n",
       "    <tr>\n",
       "      <th>3</th>\n",
       "      <td>GEOMETRYCOLLECTION EMPTY</td>\n",
       "      <td>None</td>\n",
       "      <td>1003</td>\n",
       "      <td>Station Square</td>\n",
       "      <td>125 West Station Square Drive Pittbsurgh, Penn...</td>\n",
       "      <td>0</td>\n",
       "    </tr>\n",
       "    <tr>\n",
       "      <th>4</th>\n",
       "      <td>POINT (1341532.072 411706.912)</td>\n",
       "      <td>120, Fifth Avenue, Downtown, Pittsburgh, Alleg...</td>\n",
       "      <td>1004</td>\n",
       "      <td>Fifth Avenue Place</td>\n",
       "      <td>120 Fifth Avenue Pittsburgh, Pennsylvania 15222</td>\n",
       "      <td>0</td>\n",
       "    </tr>\n",
       "    <tr>\n",
       "      <th>5</th>\n",
       "      <td>POINT (1351046.417 405435.385)</td>\n",
       "      <td>South 27th Street, South Side Slopes, Pittsbur...</td>\n",
       "      <td>1005</td>\n",
       "      <td>SouthSide Works</td>\n",
       "      <td>424 South 27th Street Pittsburgh, Pennsylvania...</td>\n",
       "      <td>0</td>\n",
       "    </tr>\n",
       "    <tr>\n",
       "      <th>6</th>\n",
       "      <td>POINT (1348701.483 407687.932)</td>\n",
       "      <td>Giant Eagle, 2021, Wharton Street, South Side ...</td>\n",
       "      <td>1006</td>\n",
       "      <td>Wharton Square</td>\n",
       "      <td>2021 Wharton Street Pittsburgh, Pennsylvania 1...</td>\n",
       "      <td>0</td>\n",
       "    </tr>\n",
       "    <tr>\n",
       "      <th>7</th>\n",
       "      <td>POINT (1326752.858 406860.242)</td>\n",
       "      <td>2350, Noblestown Road, Oakwood, Pittsburgh, Al...</td>\n",
       "      <td>1007</td>\n",
       "      <td>Noble Manor Shopping Center</td>\n",
       "      <td>2350 Noblestown Road Pittsburgh, Pennsylvania ...</td>\n",
       "      <td>0</td>\n",
       "    </tr>\n",
       "  </tbody>\n",
       "</table>\n",
       "</div>"
      ],
      "text/plain": [
       "                         geometry  \\\n",
       "0  POINT (1345552.829 393743.231)   \n",
       "1  POINT (1333875.341 395820.950)   \n",
       "2  POINT (1362531.015 417546.367)   \n",
       "3        GEOMETRYCOLLECTION EMPTY   \n",
       "4  POINT (1341532.072 411706.912)   \n",
       "5  POINT (1351046.417 405435.385)   \n",
       "6  POINT (1348701.483 407687.932)   \n",
       "7  POINT (1326752.858 406860.242)   \n",
       "\n",
       "                                             address    id  \\\n",
       "0  2134, Brownsville Road, Carrick, Pittsburgh, A...  1000   \n",
       "1  West Liberty Avenue, Beechview, Pittsburgh, Al...  1001   \n",
       "2  5956, Centre Avenue, Shadyside, Pittsburgh, Al...  1002   \n",
       "3                                               None  1003   \n",
       "4  120, Fifth Avenue, Downtown, Pittsburgh, Alleg...  1004   \n",
       "5  South 27th Street, South Side Slopes, Pittsbur...  1005   \n",
       "6  Giant Eagle, 2021, Wharton Street, South Side ...  1006   \n",
       "7  2350, Noblestown Road, Oakwood, Pittsburgh, Al...  1007   \n",
       "\n",
       "                              name  \\\n",
       "0          Carrick Shopping Center   \n",
       "1  Dormont Village Shopping Center   \n",
       "2     East Liberty Shopping Center   \n",
       "3                   Station Square   \n",
       "4               Fifth Avenue Place   \n",
       "5                  SouthSide Works   \n",
       "6                   Wharton Square   \n",
       "7      Noble Manor Shopping Center   \n",
       "\n",
       "                                                addr  buffer  \n",
       "0  2134 Brownsville Road Pittsburgh, Pennsylvania...       0  \n",
       "1  2947 West Liberty Avenue Pittsburgh, Pennsylva...       0  \n",
       "2  5956 Centre Avenue Pittsburgh, Pennsylvania 15206       0  \n",
       "3  125 West Station Square Drive Pittbsurgh, Penn...       0  \n",
       "4    120 Fifth Avenue Pittsburgh, Pennsylvania 15222       0  \n",
       "5  424 South 27th Street Pittsburgh, Pennsylvania...       0  \n",
       "6  2021 Wharton Street Pittsburgh, Pennsylvania 1...       0  \n",
       "7  2350 Noblestown Road Pittsburgh, Pennsylvania ...       0  "
      ]
     },
     "execution_count": 23,
     "metadata": {},
     "output_type": "execute_result"
    }
   ],
   "source": [
    "geodata"
   ]
  },
  {
   "cell_type": "markdown",
   "metadata": {},
   "source": [
    "- Calculate a 1.5 km buffer for each geocoded point. Store the buffer geometry in the new `buffer` column.\n",
    "\n",
    "Here, you can use the [GeoDataFrame buffer() method](http://geopandas.org/geometric_manipulations.html#GeoSeries.buffer), which uses Shapely's [buffer](http://toblerity.org/shapely/manual.html#object.buffer) in the bacground. You only need to use the `distance` -parameter, don't worry about the other parameters."
   ]
  },
  {
   "cell_type": "code",
   "execution_count": 24,
   "metadata": {
    "deletable": false,
    "nbgrader": {
     "cell_type": "code",
     "checksum": "f45cb9b3fa88f50f0f83991d3f132643",
     "grade": false,
     "grade_id": "buffer",
     "locked": false,
     "schema_version": 3,
     "solution": true
    }
   },
   "outputs": [],
   "source": [
    "geodata['buffer'] = geodata.buffer(distance=1.5)"
   ]
  },
  {
   "cell_type": "code",
   "execution_count": 28,
   "metadata": {},
   "outputs": [
    {
     "name": "stdout",
     "output_type": "stream",
     "text": [
      "0    POLYGON ((1345554.329 393743.231, 1345554.322 ...\n",
      "1    POLYGON ((1333876.841 395820.950, 1333876.834 ...\n",
      "2    POLYGON ((1362532.515 417546.367, 1362532.508 ...\n",
      "3                                        POLYGON EMPTY\n",
      "4    POLYGON ((1341533.572 411706.912, 1341533.565 ...\n",
      "5    POLYGON ((1351047.917 405435.385, 1351047.910 ...\n",
      "6    POLYGON ((1348702.983 407687.932, 1348702.976 ...\n",
      "7    POLYGON ((1326754.358 406860.242, 1326754.350 ...\n",
      "Name: buffer, dtype: geometry\n"
     ]
    }
   ],
   "source": [
    "print(geodata['buffer'])"
   ]
  },
  {
   "cell_type": "code",
   "execution_count": 25,
   "metadata": {
    "deletable": false,
    "editable": false,
    "nbgrader": {
     "cell_type": "code",
     "checksum": "e2765a36c4eb2331624d3b990eccfe9f",
     "grade": true,
     "grade_id": "problem_2_column_test",
     "locked": true,
     "points": 1,
     "schema_version": 3,
     "solution": false,
     "task": false
    }
   },
   "outputs": [
    {
     "name": "stdout",
     "output_type": "stream",
     "text": [
      "                         geometry  \\\n",
      "0  POINT (1345552.829 393743.231)   \n",
      "1  POINT (1333875.341 395820.950)   \n",
      "2  POINT (1362531.015 417546.367)   \n",
      "3        GEOMETRYCOLLECTION EMPTY   \n",
      "4  POINT (1341532.072 411706.912)   \n",
      "\n",
      "                                             address    id  \\\n",
      "0  2134, Brownsville Road, Carrick, Pittsburgh, A...  1000   \n",
      "1  West Liberty Avenue, Beechview, Pittsburgh, Al...  1001   \n",
      "2  5956, Centre Avenue, Shadyside, Pittsburgh, Al...  1002   \n",
      "3                                               None  1003   \n",
      "4  120, Fifth Avenue, Downtown, Pittsburgh, Alleg...  1004   \n",
      "\n",
      "                              name  \\\n",
      "0          Carrick Shopping Center   \n",
      "1  Dormont Village Shopping Center   \n",
      "2     East Liberty Shopping Center   \n",
      "3                   Station Square   \n",
      "4               Fifth Avenue Place   \n",
      "\n",
      "                                                addr  \\\n",
      "0  2134 Brownsville Road Pittsburgh, Pennsylvania...   \n",
      "1  2947 West Liberty Avenue Pittsburgh, Pennsylva...   \n",
      "2  5956 Centre Avenue Pittsburgh, Pennsylvania 15206   \n",
      "3  125 West Station Square Drive Pittbsurgh, Penn...   \n",
      "4    120 Fifth Avenue Pittsburgh, Pennsylvania 15222   \n",
      "\n",
      "                                              buffer  \n",
      "0  POLYGON ((1345554.329 393743.231, 1345554.322 ...  \n",
      "1  POLYGON ((1333876.841 395820.950, 1333876.834 ...  \n",
      "2  POLYGON ((1362532.515 417546.367, 1362532.508 ...  \n",
      "3                                      POLYGON EMPTY  \n",
      "4  POLYGON ((1341533.572 411706.912, 1341533.565 ...  \n"
     ]
    }
   ],
   "source": [
    "#NON-EDITABLE TEST CELL\n",
    "print(geodata.head())"
   ]
  },
  {
   "cell_type": "code",
   "execution_count": 26,
   "metadata": {
    "deletable": false,
    "editable": false,
    "nbgrader": {
     "cell_type": "code",
     "checksum": "3aa92b08ec2320d792f9de905622df3d",
     "grade": true,
     "grade_id": "problem_2_shape_test",
     "locked": true,
     "points": 1,
     "schema_version": 3,
     "solution": false,
     "task": false
    }
   },
   "outputs": [
    {
     "name": "stdout",
     "output_type": "stream",
     "text": [
      "<class 'shapely.geometry.polygon.Polygon'>\n"
     ]
    }
   ],
   "source": [
    "#NON-EDITABLE TEST CELL\n",
    "# Check the data type of the first value in the buffer-column\n",
    "print(type(geodata.at[0,'buffer']))"
   ]
  },
  {
   "cell_type": "code",
   "execution_count": 27,
   "metadata": {
    "deletable": false,
    "editable": false,
    "nbgrader": {
     "cell_type": "code",
     "checksum": "d6e0fe9059fff655e76e4ca36a024253",
     "grade": true,
     "grade_id": "problem_2_buffer_test",
     "locked": true,
     "points": 2,
     "schema_version": 3,
     "solution": false
    }
   },
   "outputs": [
    {
     "name": "stdout",
     "output_type": "stream",
     "text": [
      "0    0.0\n",
      "1    0.0\n",
      "2    0.0\n",
      "3    0.0\n",
      "4    0.0\n",
      "5    0.0\n",
      "6    0.0\n",
      "7    0.0\n",
      "dtype: float64\n"
     ]
    }
   ],
   "source": [
    "#NON-EDITABLE TEST CELL\n",
    "# Check the areas of your buffers in km^2\n",
    "print(round(gpd.GeoSeries(geodata[\"buffer\"]).area / 1000000))"
   ]
  },
  {
   "cell_type": "markdown",
   "metadata": {},
   "source": [
    "- Replace the values in `geometry` column with the values of `buffer` column:"
   ]
  },
  {
   "cell_type": "code",
   "execution_count": 29,
   "metadata": {
    "deletable": false,
    "nbgrader": {
     "cell_type": "code",
     "checksum": "4dbc3cfc149f2391c1c6b4274603a8e9",
     "grade": false,
     "grade_id": "geometry",
     "locked": false,
     "schema_version": 3,
     "solution": true
    }
   },
   "outputs": [],
   "source": [
    "geodata['geometry'] = geodata['buffer']"
   ]
  },
  {
   "cell_type": "code",
   "execution_count": 30,
   "metadata": {
    "deletable": false,
    "editable": false,
    "nbgrader": {
     "cell_type": "code",
     "checksum": "47a972c42e423c1597440885fa571d34",
     "grade": true,
     "grade_id": "problem_2_geometry_test",
     "locked": true,
     "points": 1,
     "schema_version": 3,
     "solution": false
    }
   },
   "outputs": [
    {
     "name": "stdout",
     "output_type": "stream",
     "text": [
      "                                            geometry  \\\n",
      "0  POLYGON ((1345554.329 393743.231, 1345554.322 ...   \n",
      "1  POLYGON ((1333876.841 395820.950, 1333876.834 ...   \n",
      "2  POLYGON ((1362532.515 417546.367, 1362532.508 ...   \n",
      "3                                      POLYGON EMPTY   \n",
      "4  POLYGON ((1341533.572 411706.912, 1341533.565 ...   \n",
      "\n",
      "                                             address    id  \\\n",
      "0  2134, Brownsville Road, Carrick, Pittsburgh, A...  1000   \n",
      "1  West Liberty Avenue, Beechview, Pittsburgh, Al...  1001   \n",
      "2  5956, Centre Avenue, Shadyside, Pittsburgh, Al...  1002   \n",
      "3                                               None  1003   \n",
      "4  120, Fifth Avenue, Downtown, Pittsburgh, Alleg...  1004   \n",
      "\n",
      "                              name  \\\n",
      "0          Carrick Shopping Center   \n",
      "1  Dormont Village Shopping Center   \n",
      "2     East Liberty Shopping Center   \n",
      "3                   Station Square   \n",
      "4               Fifth Avenue Place   \n",
      "\n",
      "                                                addr  \\\n",
      "0  2134 Brownsville Road Pittsburgh, Pennsylvania...   \n",
      "1  2947 West Liberty Avenue Pittsburgh, Pennsylva...   \n",
      "2  5956 Centre Avenue Pittsburgh, Pennsylvania 15206   \n",
      "3  125 West Station Square Drive Pittbsurgh, Penn...   \n",
      "4    120 Fifth Avenue Pittsburgh, Pennsylvania 15222   \n",
      "\n",
      "                                              buffer  \n",
      "0  POLYGON ((1345554.329 393743.231, 1345554.322 ...  \n",
      "1  POLYGON ((1333876.841 395820.950, 1333876.834 ...  \n",
      "2  POLYGON ((1362532.515 417546.367, 1362532.508 ...  \n",
      "3                                      POLYGON EMPTY  \n",
      "4  POLYGON ((1341533.572 411706.912, 1341533.565 ...  \n"
     ]
    }
   ],
   "source": [
    "#NON-EDITABLE TEST CELL\n",
    "print(geodata.head())"
   ]
  },
  {
   "cell_type": "markdown",
   "metadata": {},
   "source": [
    "Optional: at this point, you can drop out unnecessary columns from the geodataframe. In the next problem, \n",
    "we will only need these columns: `'id', 'name', 'geometry'`"
   ]
  },
  {
   "cell_type": "code",
   "execution_count": 31,
   "metadata": {},
   "outputs": [],
   "source": [
    "geodata = geodata[['id', 'name', 'geometry']]"
   ]
  },
  {
   "cell_type": "code",
   "execution_count": 32,
   "metadata": {},
   "outputs": [
    {
     "data": {
      "text/html": [
       "<div>\n",
       "<style scoped>\n",
       "    .dataframe tbody tr th:only-of-type {\n",
       "        vertical-align: middle;\n",
       "    }\n",
       "\n",
       "    .dataframe tbody tr th {\n",
       "        vertical-align: top;\n",
       "    }\n",
       "\n",
       "    .dataframe thead th {\n",
       "        text-align: right;\n",
       "    }\n",
       "</style>\n",
       "<table border=\"1\" class=\"dataframe\">\n",
       "  <thead>\n",
       "    <tr style=\"text-align: right;\">\n",
       "      <th></th>\n",
       "      <th>id</th>\n",
       "      <th>name</th>\n",
       "      <th>geometry</th>\n",
       "    </tr>\n",
       "  </thead>\n",
       "  <tbody>\n",
       "    <tr>\n",
       "      <th>0</th>\n",
       "      <td>1000</td>\n",
       "      <td>Carrick Shopping Center</td>\n",
       "      <td>POLYGON ((1345554.329 393743.231, 1345554.322 ...</td>\n",
       "    </tr>\n",
       "    <tr>\n",
       "      <th>1</th>\n",
       "      <td>1001</td>\n",
       "      <td>Dormont Village Shopping Center</td>\n",
       "      <td>POLYGON ((1333876.841 395820.950, 1333876.834 ...</td>\n",
       "    </tr>\n",
       "    <tr>\n",
       "      <th>2</th>\n",
       "      <td>1002</td>\n",
       "      <td>East Liberty Shopping Center</td>\n",
       "      <td>POLYGON ((1362532.515 417546.367, 1362532.508 ...</td>\n",
       "    </tr>\n",
       "    <tr>\n",
       "      <th>3</th>\n",
       "      <td>1003</td>\n",
       "      <td>Station Square</td>\n",
       "      <td>POLYGON EMPTY</td>\n",
       "    </tr>\n",
       "    <tr>\n",
       "      <th>4</th>\n",
       "      <td>1004</td>\n",
       "      <td>Fifth Avenue Place</td>\n",
       "      <td>POLYGON ((1341533.572 411706.912, 1341533.565 ...</td>\n",
       "    </tr>\n",
       "    <tr>\n",
       "      <th>5</th>\n",
       "      <td>1005</td>\n",
       "      <td>SouthSide Works</td>\n",
       "      <td>POLYGON ((1351047.917 405435.385, 1351047.910 ...</td>\n",
       "    </tr>\n",
       "    <tr>\n",
       "      <th>6</th>\n",
       "      <td>1006</td>\n",
       "      <td>Wharton Square</td>\n",
       "      <td>POLYGON ((1348702.983 407687.932, 1348702.976 ...</td>\n",
       "    </tr>\n",
       "    <tr>\n",
       "      <th>7</th>\n",
       "      <td>1007</td>\n",
       "      <td>Noble Manor Shopping Center</td>\n",
       "      <td>POLYGON ((1326754.358 406860.242, 1326754.350 ...</td>\n",
       "    </tr>\n",
       "  </tbody>\n",
       "</table>\n",
       "</div>"
      ],
      "text/plain": [
       "     id                             name  \\\n",
       "0  1000          Carrick Shopping Center   \n",
       "1  1001  Dormont Village Shopping Center   \n",
       "2  1002     East Liberty Shopping Center   \n",
       "3  1003                   Station Square   \n",
       "4  1004               Fifth Avenue Place   \n",
       "5  1005                  SouthSide Works   \n",
       "6  1006                   Wharton Square   \n",
       "7  1007      Noble Manor Shopping Center   \n",
       "\n",
       "                                            geometry  \n",
       "0  POLYGON ((1345554.329 393743.231, 1345554.322 ...  \n",
       "1  POLYGON ((1333876.841 395820.950, 1333876.834 ...  \n",
       "2  POLYGON ((1362532.515 417546.367, 1362532.508 ...  \n",
       "3                                      POLYGON EMPTY  \n",
       "4  POLYGON ((1341533.572 411706.912, 1341533.565 ...  \n",
       "5  POLYGON ((1351047.917 405435.385, 1351047.910 ...  \n",
       "6  POLYGON ((1348702.983 407687.932, 1348702.976 ...  \n",
       "7  POLYGON ((1326754.358 406860.242, 1326754.350 ...  "
      ]
     },
     "execution_count": 32,
     "metadata": {},
     "output_type": "execute_result"
    }
   ],
   "source": [
    "geodata"
   ]
  },
  {
   "cell_type": "markdown",
   "metadata": {},
   "source": [
    "## Problem 3: How many people live near shopping centers? (5 points)\n",
    "\n",
    "Last step in our analysis is to make a spatial join between our buffer layer and population data in order to find out **how many people live near each shopping center**. We will use the same data as we did during [lesson 3](https://automating-gis-processes.github.io/site/notebooks/L3/spatial-join.html#Spatial-join); **a Population Grid** that is available via the HSY wfs. \n",
    "\n",
    "Alternatively, you can also download the data from the [Helsinki Region Infoshare (HRI)](https://hri.fi/data/en_GB/dataset/vaestotietoruudukko) on your computer and read it in using geopandas.\n",
    "\n",
    "The coordinate reference system of the population grid is **ETRS GK-25 (EPSG:3879)**.\n",
    "\n",
    "\n",
    "**Steps:**\n",
    "\n",
    "- Read the population grid into a geodataframe\n",
    "\n",
    "- Select only the useful columns from the population grid: ``'asukkaita'`` (=population count per grid square) and ``'geometry'`` \n",
    "\n",
    "- Make a spatial join between your buffered point layer and population grid layer. Join the information now from buffer layer **into the population grid layer**\n",
    "\n",
    "- Group the joined layer by shopping center index\n",
    "\n",
    "- Calculate the sum of population living within 1.5 km for each shopping center.\n",
    "\n",
    "**Finally:**\n",
    "\n",
    "- Print out the population living within 1.5 km from each shopping center:\n",
    "\n",
    "     - Itis\n",
    "     - Forum\n",
    "     - Iso-omena\n",
    "     - Sello\n",
    "     - Jumbo\n",
    "     - REDI\n",
    "     - Mall of Tripla\n",
    "     \n",
    "**Final print out should contain both the shopping center name and population count**, for example: `25858 people live within 1.5 km from Iso-Omena`.\n",
    "\n",
    "*Feel free to divide your solution into several codeblocks! Remember to comment your code  :)*"
   ]
  },
  {
   "cell_type": "code",
   "execution_count": 2,
   "metadata": {
    "deletable": false,
    "nbgrader": {
     "cell_type": "code",
     "checksum": "629fe93329c8fe47162e31b2cd8c260e",
     "grade": false,
     "grade_id": "read_wfs",
     "locked": false,
     "schema_version": 3,
     "solution": true,
     "task": false
    }
   },
   "outputs": [
    {
     "data": {
      "text/html": [
       "<div>\n",
       "<style scoped>\n",
       "    .dataframe tbody tr th:only-of-type {\n",
       "        vertical-align: middle;\n",
       "    }\n",
       "\n",
       "    .dataframe tbody tr th {\n",
       "        vertical-align: top;\n",
       "    }\n",
       "\n",
       "    .dataframe thead th {\n",
       "        text-align: right;\n",
       "    }\n",
       "</style>\n",
       "<table border=\"1\" class=\"dataframe\">\n",
       "  <thead>\n",
       "    <tr style=\"text-align: right;\">\n",
       "      <th></th>\n",
       "      <th>id</th>\n",
       "      <th>Race/Ethnic Group</th>\n",
       "      <th>Popgroup Label</th>\n",
       "      <th>Geographic Area Name</th>\n",
       "      <th>Total</th>\n",
       "      <th>geometry</th>\n",
       "    </tr>\n",
       "  </thead>\n",
       "  <tbody>\n",
       "    <tr>\n",
       "      <th>0</th>\n",
       "      <td>1400000US42003010300</td>\n",
       "      <td>1</td>\n",
       "      <td>Total population</td>\n",
       "      <td>Census Tract 103, Allegheny County, Pennsylvania</td>\n",
       "      <td>6600</td>\n",
       "      <td>None</td>\n",
       "    </tr>\n",
       "    <tr>\n",
       "      <th>1</th>\n",
       "      <td>1400000US42003020100</td>\n",
       "      <td>1</td>\n",
       "      <td>Total population</td>\n",
       "      <td>Census Tract 201, Allegheny County, Pennsylvania</td>\n",
       "      <td>3629</td>\n",
       "      <td>None</td>\n",
       "    </tr>\n",
       "    <tr>\n",
       "      <th>2</th>\n",
       "      <td>1400000US42003020300</td>\n",
       "      <td>1</td>\n",
       "      <td>Total population</td>\n",
       "      <td>Census Tract 203, Allegheny County, Pennsylvania</td>\n",
       "      <td>616</td>\n",
       "      <td>None</td>\n",
       "    </tr>\n",
       "    <tr>\n",
       "      <th>3</th>\n",
       "      <td>1400000US42003030500</td>\n",
       "      <td>1</td>\n",
       "      <td>Total population</td>\n",
       "      <td>Census Tract 305, Allegheny County, Pennsylvania</td>\n",
       "      <td>2256</td>\n",
       "      <td>None</td>\n",
       "    </tr>\n",
       "    <tr>\n",
       "      <th>4</th>\n",
       "      <td>1400000US42003040200</td>\n",
       "      <td>1</td>\n",
       "      <td>Total population</td>\n",
       "      <td>Census Tract 402, Allegheny County, Pennsylvania</td>\n",
       "      <td>2604</td>\n",
       "      <td>None</td>\n",
       "    </tr>\n",
       "  </tbody>\n",
       "</table>\n",
       "</div>"
      ],
      "text/plain": [
       "                     id Race/Ethnic Group    Popgroup Label  \\\n",
       "0  1400000US42003010300                 1  Total population   \n",
       "1  1400000US42003020100                 1  Total population   \n",
       "2  1400000US42003020300                 1  Total population   \n",
       "3  1400000US42003030500                 1  Total population   \n",
       "4  1400000US42003040200                 1  Total population   \n",
       "\n",
       "                               Geographic Area Name Total geometry  \n",
       "0  Census Tract 103, Allegheny County, Pennsylvania  6600     None  \n",
       "1  Census Tract 201, Allegheny County, Pennsylvania  3629     None  \n",
       "2  Census Tract 203, Allegheny County, Pennsylvania   616     None  \n",
       "3  Census Tract 305, Allegheny County, Pennsylvania  2256     None  \n",
       "4  Census Tract 402, Allegheny County, Pennsylvania  2604     None  "
      ]
     },
     "execution_count": 2,
     "metadata": {},
     "output_type": "execute_result"
    }
   ],
   "source": [
    "# Read population grid data for 2018 into a variable `pop`. \n",
    "# Remember to check the crs info!\n",
    "import geopandas as gpd\n",
    "from pyproj import CRS\n",
    "\n",
    "fp = \"data/popbytract.csv\"\n",
    "pop = gpd.read_file(fp)\n",
    "\n",
    "pop.head()"
   ]
  },
  {
   "cell_type": "code",
   "execution_count": null,
   "metadata": {
    "deletable": false,
    "editable": false,
    "nbgrader": {
     "cell_type": "code",
     "checksum": "8fe4f1ecd4466cf975714202c832be7e",
     "grade": true,
     "grade_id": "problem_3_read_data_test",
     "locked": true,
     "points": 1,
     "schema_version": 3,
     "solution": false,
     "task": false
    }
   },
   "outputs": [],
   "source": [
    "#NON-EDITABLE TEST CELL\n",
    "# Check your input data\n",
    "print(\"Number of rows:\", len(pop))\n",
    "print(pop.head(3))"
   ]
  },
  {
   "cell_type": "code",
   "execution_count": null,
   "metadata": {
    "deletable": false,
    "nbgrader": {
     "cell_type": "code",
     "checksum": "92e87958a8ce4e2b8e5ae77689445df8",
     "grade": false,
     "grade_id": "spatial_join",
     "locked": false,
     "schema_version": 3,
     "solution": true
    }
   },
   "outputs": [],
   "source": [
    "# Create a spatial join between grid layer and buffer layer. \n",
    "\n",
    "# REPLACE THE ERROR BELOW WITH YOUR OWN CODE\n",
    "raise NotImplementedError()"
   ]
  },
  {
   "cell_type": "code",
   "execution_count": null,
   "metadata": {
    "deletable": false,
    "nbgrader": {
     "cell_type": "code",
     "checksum": "fe6b621e6f3d39eb5aa375c864268a03",
     "grade": false,
     "grade_id": "print_results",
     "locked": false,
     "schema_version": 3,
     "solution": true,
     "task": false
    }
   },
   "outputs": [],
   "source": [
    "# Report how many people live within 1.5 km distance from each shopping center\n",
    "\n",
    "# REPLACE THE ERROR BELOW WITH YOUR OWN CODE\n",
    "raise NotImplementedError()"
   ]
  },
  {
   "cell_type": "markdown",
   "metadata": {},
   "source": [
    "**Reflections:**\n",
    "    \n",
    "- How challenging did you find problems 1-3 (on scale to 1-5), and why?\n",
    "- What was easy?\n",
    "- What was difficult?"
   ]
  },
  {
   "cell_type": "markdown",
   "metadata": {
    "deletable": false,
    "nbgrader": {
     "cell_type": "markdown",
     "checksum": "ae8c161a5ec09a095453240cd41b6da8",
     "grade": true,
     "grade_id": "problem_3_Check_problem_3",
     "locked": false,
     "points": 4,
     "schema_version": 3,
     "solution": true
    }
   },
   "source": [
    "YOUR ANSWER HERE"
   ]
  },
  {
   "cell_type": "markdown",
   "metadata": {},
   "source": [
    "Well done! Now you can continue to [problem 4](Exercise-3-Problem-4.ipynb)"
   ]
  }
 ],
 "metadata": {
  "anaconda-cloud": {},
  "kernelspec": {
   "display_name": "Python 3",
   "language": "python",
   "name": "python3"
  },
  "language_info": {
   "codemirror_mode": {
    "name": "ipython",
    "version": 3
   },
   "file_extension": ".py",
   "mimetype": "text/x-python",
   "name": "python",
   "nbconvert_exporter": "python",
   "pygments_lexer": "ipython3",
   "version": "3.7.8"
  }
 },
 "nbformat": 4,
 "nbformat_minor": 4
}
